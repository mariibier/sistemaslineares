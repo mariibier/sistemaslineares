{
  "nbformat": 4,
  "nbformat_minor": 0,
  "metadata": {
    "colab": {
      "name": "Untitled0.ipynb",
      "provenance": [],
      "collapsed_sections": [],
      "authorship_tag": "ABX9TyPaQxh3ppSAaq0b9Ri1iq1B",
      "include_colab_link": true
    },
    "kernelspec": {
      "name": "python3",
      "display_name": "Python 3"
    },
    "language_info": {
      "name": "python"
    }
  },
  "cells": [
    {
      "cell_type": "markdown",
      "metadata": {
        "id": "view-in-github",
        "colab_type": "text"
      },
      "source": [
        "<a href=\"https://colab.research.google.com/github/mariibier/sistemaslineares/blob/main/Untitled0.ipynb\" target=\"_parent\"><img src=\"https://colab.research.google.com/assets/colab-badge.svg\" alt=\"Open In Colab\"/></a>"
      ]
    },
    {
      "cell_type": "markdown",
      "metadata": {
        "id": "8XZmOycyTiCh"
      },
      "source": [
        "Para o problema do esquema de figuras geométricas triangulares foi utilizado a soma de progressão geométrica. Mudando o n pode-se obter qualquer uma das interações do esquema."
      ]
    },
    {
      "cell_type": "code",
      "metadata": {
        "colab": {
          "base_uri": "https://localhost:8080/"
        },
        "id": "z02x9GIFnz66",
        "outputId": "4e65da42-4658-442a-d68f-0706a82506f1"
      },
      "source": [
        "n = 15\n",
        "a = 1\n",
        "q = 4\n",
        "soma1 = a - a*q**n\n",
        "soma2 = 1 - q\n",
        "soma = soma1/soma2\n",
        "\n",
        "print(soma1)\n",
        "print(soma2)\n",
        "print(soma)\n",
        "\n",
        " "
      ],
      "execution_count": 8,
      "outputs": [
        {
          "output_type": "stream",
          "name": "stdout",
          "text": [
            "-1073741823\n",
            "-3\n",
            "357913941.0\n"
          ]
        }
      ]
    },
    {
      "cell_type": "markdown",
      "metadata": {
        "id": "esTOREWSURZc"
      },
      "source": [
        "Comparando com a população brasileira em 2020 que é 212.600.000, o valoir obtido foi de 357.913.941 integrantes, ou seja maior que pooulação brasileira."
      ]
    }
  ]
}